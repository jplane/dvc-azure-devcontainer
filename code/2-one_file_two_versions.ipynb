{
 "cells": [
  {
   "cell_type": "code",
   "execution_count": null,
   "metadata": {},
   "outputs": [],
   "source": [
    "import os\n",
    "import pandas as pd\n",
    "import subprocess\n",
    "from datetime import datetime\n",
    "from dvc.api import DVCFileSystem"
   ]
  },
  {
   "cell_type": "code",
   "execution_count": null,
   "metadata": {},
   "outputs": [],
   "source": [
    "# create working data folder\n",
    "\n",
    "os.makedirs('/workspace/data/one_file_two_versions')"
   ]
  },
  {
   "cell_type": "code",
   "execution_count": null,
   "metadata": {},
   "outputs": [],
   "source": [
    "# define paths\n",
    "\n",
    "local_data_path = '/workspace/data/one_file_two_versions'\n",
    "dvc_path = 'data/one_file_two_versions/data.csv'"
   ]
  },
  {
   "cell_type": "code",
   "execution_count": null,
   "metadata": {},
   "outputs": [],
   "source": [
    "# function to add new version to DVC and Git\n",
    "\n",
    "def commit_version(rev):\n",
    "    subprocess.run([\"dvc\", \"add\", local_data_path + \"/data.csv\"])\n",
    "    subprocess.run([\"git\", \"add\", local_data_path + \"/*\"])\n",
    "    subprocess.run([\"git\", \"commit\", \"-m\", rev])\n",
    "    subprocess.run([\"git\", \"tag\", rev])\n",
    "    #subprocess.run([\"git\", \"push\", \"--atomic\", \"origin\", \"dev\", rev]) # if you had a remote...\n",
    "    subprocess.run([\"dvc\", \"push\"])"
   ]
  },
  {
   "cell_type": "code",
   "execution_count": null,
   "metadata": {},
   "outputs": [],
   "source": [
    "# create a dataframe\n",
    "\n",
    "data = [\n",
    "    {'name': 'Suzy', 'age': 78, 'salary': 40000},\n",
    "    {'name': 'Bill', 'age': 50, 'salary': 1000},\n",
    "    {'name': 'Fred', 'age': 32, 'salary': 5000}\n",
    "]\n",
    "\n",
    "df = pd.DataFrame.from_records(data)\n",
    "\n",
    "df.to_csv(local_data_path + '/data.csv', index=False, )"
   ]
  },
  {
   "cell_type": "code",
   "execution_count": null,
   "metadata": {},
   "outputs": [],
   "source": [
    "# version the dataframe\n",
    "\n",
    "now_v1 = datetime.now().strftime('%Y%m%dT%H%M%S')\n",
    "\n",
    "commit_version(now_v1)"
   ]
  },
  {
   "cell_type": "code",
   "execution_count": null,
   "metadata": {},
   "outputs": [],
   "source": [
    "# modify the original dataframe\n",
    "\n",
    "new_data = [\n",
    "    {'name': 'Bonnie', 'age': 40, 'salary': 84000}\n",
    "]\n",
    "\n",
    "new_df = pd.DataFrame.from_records(new_data)\n",
    "\n",
    "df = pd.concat([df, new_df], ignore_index=True)\n",
    "\n",
    "df.to_csv(local_data_path + '/data.csv', index=False)"
   ]
  },
  {
   "cell_type": "code",
   "execution_count": null,
   "metadata": {},
   "outputs": [],
   "source": [
    "# version the dataframe again\n",
    "\n",
    "now_v2 = datetime.now().strftime('%Y%m%dT%H%M%S')\n",
    "\n",
    "commit_version(now_v2)"
   ]
  },
  {
   "cell_type": "code",
   "execution_count": null,
   "metadata": {},
   "outputs": [],
   "source": [
    "# function to dump dataframe contents from DVC\n",
    "\n",
    "def print_version(file_rev):\n",
    "    fs = DVCFileSystem(\"/workspace\", rev=file_rev)\n",
    "    with fs.open(dvc_path) as f:\n",
    "        df = pd.read_csv(f)\n",
    "        print(df)"
   ]
  },
  {
   "cell_type": "code",
   "execution_count": null,
   "metadata": {},
   "outputs": [],
   "source": [
    "# view the original dataframe version\n",
    "\n",
    "print_version(now_v1)"
   ]
  },
  {
   "cell_type": "code",
   "execution_count": null,
   "metadata": {},
   "outputs": [],
   "source": [
    "# view the updated dataframe version\n",
    "\n",
    "print_version(now_v2)"
   ]
  }
 ],
 "metadata": {
  "kernelspec": {
   "display_name": "Python 3",
   "language": "python",
   "name": "python3"
  },
  "language_info": {
   "codemirror_mode": {
    "name": "ipython",
    "version": 3
   },
   "file_extension": ".py",
   "mimetype": "text/x-python",
   "name": "python",
   "nbconvert_exporter": "python",
   "pygments_lexer": "ipython3",
   "version": "3.11.2"
  },
  "orig_nbformat": 4
 },
 "nbformat": 4,
 "nbformat_minor": 2
}
