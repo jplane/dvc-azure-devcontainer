{
 "cells": [
  {
   "cell_type": "code",
   "execution_count": null,
   "metadata": {},
   "outputs": [],
   "source": [
    "# change working directory to workspace root (needed to play nice with notebook)\n",
    "\n",
    "import os\n",
    "from datetime import datetime\n",
    "\n",
    "os.chdir('/workspace')"
   ]
  },
  {
   "cell_type": "code",
   "execution_count": null,
   "metadata": {},
   "outputs": [],
   "source": [
    "# checkout new branch\n",
    "\n",
    "!git checkout -b dev main"
   ]
  },
  {
   "cell_type": "code",
   "execution_count": null,
   "metadata": {},
   "outputs": [],
   "source": [
    "# initialize DVC at workspace root\n",
    "\n",
    "!dvc init"
   ]
  },
  {
   "cell_type": "code",
   "execution_count": null,
   "metadata": {},
   "outputs": [],
   "source": [
    "# setup Azure blob storage for DVC\n",
    "#  https://dvc.org/doc/user-guide/data-management/remote-storage/azure-blob-storage\n",
    "\n",
    "!dvc remote add -d azure_remote azure://dvc"
   ]
  },
  {
   "cell_type": "code",
   "execution_count": null,
   "metadata": {},
   "outputs": [],
   "source": [
    "# commit changes\n",
    "\n",
    "!git add .dvc/config\n",
    "\n",
    "!git commit -m \"initial dvc setup\""
   ]
  }
 ],
 "metadata": {
  "kernelspec": {
   "display_name": "Python 3",
   "language": "python",
   "name": "python3"
  },
  "language_info": {
   "codemirror_mode": {
    "name": "ipython",
    "version": 3
   },
   "file_extension": ".py",
   "mimetype": "text/x-python",
   "name": "python",
   "nbconvert_exporter": "python",
   "pygments_lexer": "ipython3",
   "version": "3.11.2"
  },
  "orig_nbformat": 4
 },
 "nbformat": 4,
 "nbformat_minor": 2
}
